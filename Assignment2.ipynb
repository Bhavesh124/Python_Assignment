{
 "cells": [
  {
   "cell_type": "raw",
   "id": "e1c33cd0",
   "metadata": {},
   "source": [
    "1. Boolean has 2 datatypes True & False. we write them as T & F"
   ]
  },
  {
   "cell_type": "raw",
   "id": "88701be4",
   "metadata": {},
   "source": [
    "2. 3 Different Types of Boolean Operator are:\n",
    "     a)And operator\n",
    "     b)OR operator\n",
    "     c)NAND & NOR operator\n"
   ]
  },
  {
   "cell_type": "raw",
   "id": "04da8416",
   "metadata": {},
   "source": [
    "3. And operator:   X     Y       X&Y\n",
    "                   T     F        F\n",
    "                   F     T        F\n",
    "                   F     F        F\n",
    "                   T     T        T\n",
    "                  \n",
    "   OR Operator:    X     Y        X or Y\n",
    "                   T     F         T\n",
    "                   F     T         T\n",
    "                   T     T         T\n",
    "                   F     F         F\n",
    "                   \n",
    "  NAND Operator:    X    Y         X not Y\n",
    "                    T    F          T\n",
    "                    F    T          T\n",
    "                    F    F          T\n",
    "                    T    T          F"
   ]
  },
  {
   "cell_type": "raw",
   "id": "6b385771",
   "metadata": {},
   "source": [
    "4. (5>4) and (3==4)\n",
    "    1          0        0\n",
    "    NOT(5>4)\n",
    "    0\n",
    "    (5>4) OR (3==4)\n",
    "      1        0        1\n",
    "    NOT((5>4) OR (3==4))\n",
    "         0\n",
    "    (True and True) and (True==False)\n",
    "         1                  0             0\n",
    "     (not False) or (not True)\n",
    "         1             0          1"
   ]
  },
  {
   "cell_type": "raw",
   "id": "df34591c",
   "metadata": {},
   "source": [
    "5. less than (<), less than or equal to(<=),greater than(>),greater than or equal to(>=),equal to(==),not equal to(!=)"
   ]
  },
  {
   "cell_type": "raw",
   "id": "7b2b5618",
   "metadata": {},
   "source": [
    "6. The assignment operators are =,+=,-= etc. The equal to operator comes in the assignment \n",
    "   eg:- a+=1\n",
    "        a=a+1"
   ]
  },
  {
   "cell_type": "raw",
   "id": "e8586923",
   "metadata": {},
   "source": [
    "7.  spam = 0\n",
    "if spam == 10:\n",
    "print('eggs')\n",
    "if spam > 5:\n",
    "print(bacon)\n",
    "else:\n",
    "print('ham')\n",
    "print('spam')\n",
    "print('spam')\n",
    "\n",
    "The Three blocks are:\n",
    "if spam==10:\n",
    "if spam>5:\n",
    "else:"
   ]
  },
  {
   "cell_type": "code",
   "execution_count": 3,
   "id": "5cbf8062",
   "metadata": {},
   "outputs": [
    {
     "name": "stdout",
     "output_type": "stream",
     "text": [
      "3\n",
      "Greetings\n"
     ]
    }
   ],
   "source": [
    "spam=int(input())\n",
    "if spam==1:\n",
    "    print(\"Hello\")\n",
    "elif spam==2:\n",
    "    print(\"Howdy\")\n",
    "else:\n",
    "    print(\"Greetings\")"
   ]
  },
  {
   "cell_type": "raw",
   "id": "bacf8c19",
   "metadata": {},
   "source": [
    "9. If a programme is stuck in a endless loop Restart the kernel"
   ]
  },
  {
   "cell_type": "raw",
   "id": "a74629d8",
   "metadata": {},
   "source": [
    "10. The Break statement stops the program after the execution whereas continue statement runs the program even after the execution."
   ]
  },
  {
   "cell_type": "raw",
   "id": "b6bc590c",
   "metadata": {},
   "source": [
    "11. In a for loop range(10) indicates 0-9, range(0,10) indicates 0-9,range(0,10,1) indicates 0-9 with a step of 1"
   ]
  },
  {
   "cell_type": "raw",
   "id": "d9e81444",
   "metadata": {},
   "source": []
  },
  {
   "cell_type": "code",
   "execution_count": 14,
   "id": "949bfac7",
   "metadata": {},
   "outputs": [
    {
     "name": "stdout",
     "output_type": "stream",
     "text": [
      "1\n",
      "2\n",
      "3\n",
      "4\n",
      "5\n",
      "6\n",
      "7\n",
      "8\n",
      "9\n",
      "10\n"
     ]
    }
   ],
   "source": [
    "for i in range(1,11):\n",
    "    print(i)"
   ]
  },
  {
   "cell_type": "code",
   "execution_count": 13,
   "id": "8928cdd8",
   "metadata": {},
   "outputs": [
    {
     "name": "stdout",
     "output_type": "stream",
     "text": [
      "10\n",
      "1\n",
      "2\n",
      "3\n",
      "4\n",
      "5\n",
      "6\n",
      "7\n",
      "8\n",
      "9\n",
      "10\n"
     ]
    }
   ],
   "source": [
    "n=int(input())\n",
    "i=1\n",
    "while (i<=n):\n",
    "    print(i)\n",
    "    i+=1\n",
    "#break"
   ]
  },
  {
   "cell_type": "code",
   "execution_count": null,
   "id": "b7143731",
   "metadata": {},
   "outputs": [],
   "source": [
    "import spam\n",
    "spam.bacon()."
   ]
  }
 ],
 "metadata": {
  "kernelspec": {
   "display_name": "Python 3 (ipykernel)",
   "language": "python",
   "name": "python3"
  },
  "language_info": {
   "codemirror_mode": {
    "name": "ipython",
    "version": 3
   },
   "file_extension": ".py",
   "mimetype": "text/x-python",
   "name": "python",
   "nbconvert_exporter": "python",
   "pygments_lexer": "ipython3",
   "version": "3.9.12"
  }
 },
 "nbformat": 4,
 "nbformat_minor": 5
}
