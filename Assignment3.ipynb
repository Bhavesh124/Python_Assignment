{
 "cells": [
  {
   "cell_type": "markdown",
   "id": "20aec9ec",
   "metadata": {},
   "source": [
    "1. i)It is used as reuse of code\n",
    "  ii)It makes the complex code simplier & sort into pieces.\n",
    " iii)It gives security to the code\n",
    "  iv)Duplication of code is avoided\n",
    "   v)code is not required to write again & again for execution."
   ]
  },
  {
   "cell_type": "markdown",
   "id": "6317e16e",
   "metadata": {},
   "source": [
    "2. The code in a function is runned when it is called, the program control jumps into the function defination and execute the statement insid ethe function defination."
   ]
  },
  {
   "cell_type": "markdown",
   "id": "0382a644",
   "metadata": {},
   "source": [
    "3. The def keyword creates the function in python"
   ]
  },
  {
   "cell_type": "markdown",
   "id": "22f31f84",
   "metadata": {},
   "source": [
    "4. A function is a piece of code which enhanced the reuseability & modularity of the program, which means we don't have to write the code again.\n",
    "   A function call is a function calling that function block in which we have written a code,Unless a function is called there is no use of that function"
   ]
  },
  {
   "cell_type": "markdown",
   "id": "cd005c16",
   "metadata": {},
   "source": [
    "5. There is only 1 global scope in a python & 1 local scope"
   ]
  },
  {
   "cell_type": "markdown",
   "id": "d81598e9",
   "metadata": {},
   "source": [
    "6. The variables get destroyed in local scope when the function call returns."
   ]
  },
  {
   "cell_type": "markdown",
   "id": "172dd0d7",
   "metadata": {},
   "source": [
    "7. A return ststement is used to return the result after the execution of the task.\n",
    "   It is possible to have a return value for a expression in which value has a logical meaning"
   ]
  },
  {
   "cell_type": "markdown",
   "id": "f4c9eb62",
   "metadata": {},
   "source": [
    "8. if no return statement appears in function defination,control automatically returns to calling function after the last statement of the function is executed."
   ]
  },
  {
   "cell_type": "markdown",
   "id": "fbe552aa",
   "metadata": {},
   "source": [
    "9. we use the global variable to declare the which variables are global."
   ]
  },
  {
   "cell_type": "markdown",
   "id": "03dc5ad0",
   "metadata": {},
   "source": [
    "10. Datatype of none is null or 0."
   ]
  },
  {
   "cell_type": "markdown",
   "id": "3b6baa1c",
   "metadata": {},
   "source": [
    "11. This import statement imports a module name areallyourpetsnamederic."
   ]
  },
  {
   "cell_type": "markdown",
   "id": "da898972",
   "metadata": {},
   "source": [
    "12. spam.bacon()"
   ]
  },
  {
   "cell_type": "markdown",
   "id": "8fbb40fd",
   "metadata": {},
   "source": [
    "13.Exception handling"
   ]
  },
  {
   "cell_type": "markdown",
   "id": "3bf34207",
   "metadata": {},
   "source": [
    "14. try clause lets you handle the block of code for errors & except clause lets you handle the error."
   ]
  },
  {
   "cell_type": "code",
   "execution_count": null,
   "id": "dd49e55d",
   "metadata": {},
   "outputs": [],
   "source": []
  },
  {
   "cell_type": "code",
   "execution_count": null,
   "id": "c8220c0f",
   "metadata": {},
   "outputs": [],
   "source": []
  }
 ],
 "metadata": {
  "kernelspec": {
   "display_name": "Python 3 (ipykernel)",
   "language": "python",
   "name": "python3"
  },
  "language_info": {
   "codemirror_mode": {
    "name": "ipython",
    "version": 3
   },
   "file_extension": ".py",
   "mimetype": "text/x-python",
   "name": "python",
   "nbconvert_exporter": "python",
   "pygments_lexer": "ipython3",
   "version": "3.9.12"
  }
 },
 "nbformat": 4,
 "nbformat_minor": 5
}
