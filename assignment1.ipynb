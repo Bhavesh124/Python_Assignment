{
 "cells": [
  {
   "cell_type": "raw",
   "id": "3f036952",
   "metadata": {},
   "source": [
    "   *   :  Mathematical Operator\n",
    "'hello':  string\n",
    "-87.8  :  Float\n",
    "   -   :  Operator\n",
    "   /   :  Mathematical Operator\n",
    "   +   :  Mathematical Operator\n",
    "   6   :  Integer"
   ]
  },
  {
   "cell_type": "raw",
   "id": "88aaa834",
   "metadata": {},
   "source": [
    "string is a sequence of character enclosed in quotes\n",
    "variable is a container to store a value"
   ]
  },
  {
   "cell_type": "raw",
   "id": "2cf669bb",
   "metadata": {},
   "source": [
    "Float\n",
    "Integer \n",
    "String"
   ]
  },
  {
   "cell_type": "code",
   "execution_count": null,
   "id": "8ed9c72d",
   "metadata": {},
   "outputs": [],
   "source": [
    "Expression is made up of Operators and Integers.It performs the mathematical operations"
   ]
  },
  {
   "cell_type": "raw",
   "id": "b62dff26",
   "metadata": {},
   "source": [
    "In a expression we perform mathematical operations whereas, in varaible we assign a value in it "
   ]
  },
  {
   "cell_type": "code",
   "execution_count": 1,
   "id": "c7c35a3d",
   "metadata": {},
   "outputs": [
    {
     "data": {
      "text/plain": [
       "23"
      ]
     },
     "execution_count": 1,
     "metadata": {},
     "output_type": "execute_result"
    }
   ],
   "source": [
    "bacon = 22\n",
    "bacon + 1"
   ]
  },
  {
   "cell_type": "code",
   "execution_count": 2,
   "id": "b463221d",
   "metadata": {},
   "outputs": [
    {
     "data": {
      "text/plain": [
       "'spamspamspam'"
      ]
     },
     "execution_count": 2,
     "metadata": {},
     "output_type": "execute_result"
    }
   ],
   "source": [
    "'spam' + 'spamspam'\n",
    "'spam' * 3"
   ]
  },
  {
   "cell_type": "raw",
   "id": "7bb89608",
   "metadata": {},
   "source": [
    "A varaible name is always a string, so eggs is a valid variable and 100 is invalid"
   ]
  },
  {
   "cell_type": "code",
   "execution_count": null,
   "id": "cbe81ea2",
   "metadata": {},
   "outputs": [],
   "source": [
    "List,Dictionary & Tuple functions can be used to get the integer, floating-point number, or string"
   ]
  },
  {
   "cell_type": "code",
   "execution_count": 3,
   "id": "6652d0c8",
   "metadata": {},
   "outputs": [
    {
     "data": {
      "text/plain": [
       "str"
      ]
     },
     "execution_count": 3,
     "metadata": {},
     "output_type": "execute_result"
    }
   ],
   "source": [
    "a = 'I have eaten +99 burittos.'\n",
    "type(a)"
   ]
  },
  {
   "cell_type": "code",
   "execution_count": null,
   "id": "325d9fa5",
   "metadata": {},
   "outputs": [],
   "source": []
  },
  {
   "cell_type": "code",
   "execution_count": null,
   "id": "21701c90",
   "metadata": {},
   "outputs": [],
   "source": []
  },
  {
   "cell_type": "code",
   "execution_count": null,
   "id": "c811a1a7",
   "metadata": {},
   "outputs": [],
   "source": []
  },
  {
   "cell_type": "code",
   "execution_count": null,
   "id": "b00fca83",
   "metadata": {},
   "outputs": [],
   "source": []
  },
  {
   "cell_type": "code",
   "execution_count": null,
   "id": "23ec52eb",
   "metadata": {},
   "outputs": [],
   "source": []
  },
  {
   "cell_type": "code",
   "execution_count": null,
   "id": "65335a19",
   "metadata": {},
   "outputs": [],
   "source": []
  },
  {
   "cell_type": "code",
   "execution_count": null,
   "id": "74f2b557",
   "metadata": {},
   "outputs": [],
   "source": []
  }
 ],
 "metadata": {
  "kernelspec": {
   "display_name": "Python 3 (ipykernel)",
   "language": "python",
   "name": "python3"
  },
  "language_info": {
   "codemirror_mode": {
    "name": "ipython",
    "version": 3
   },
   "file_extension": ".py",
   "mimetype": "text/x-python",
   "name": "python",
   "nbconvert_exporter": "python",
   "pygments_lexer": "ipython3",
   "version": "3.9.12"
  }
 },
 "nbformat": 4,
 "nbformat_minor": 5
}
